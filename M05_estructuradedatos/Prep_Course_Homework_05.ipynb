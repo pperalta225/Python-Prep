{
 "cells": [
  {
   "attachments": {},
   "cell_type": "markdown",
   "metadata": {},
   "source": [
    "## Estructuras de Datos"
   ]
  },
  {
   "attachments": {},
   "cell_type": "markdown",
   "metadata": {},
   "source": [
    "1) Crear una lista que contenga nombres de ciudades del mundo que contenga más de 5 elementos e imprimir por pantalla"
   ]
  },
  {
   "cell_type": "code",
   "execution_count": 3,
   "metadata": {},
   "outputs": [
    {
     "name": "stdout",
     "output_type": "stream",
     "text": [
      "Lista:  ['Buenos Aires', 'Roma', 'Paris', 'Kabul', 'Madrid', 'Ottawa']\n"
     ]
    }
   ],
   "source": [
    "mi_lista = ['Buenos Aires', 'Roma', 'Paris', 'Kabul', 'Madrid', 'Ottawa']\n",
    "print(\"Lista: \", mi_lista)"
   ]
  },
  {
   "attachments": {},
   "cell_type": "markdown",
   "metadata": {},
   "source": [
    "2) Imprimir por pantalla el segundo elemento de la lista"
   ]
  },
  {
   "cell_type": "code",
   "execution_count": 2,
   "metadata": {},
   "outputs": [
    {
     "name": "stdout",
     "output_type": "stream",
     "text": [
      "2do elemento de la lista:  Roma\n"
     ]
    }
   ],
   "source": [
    "print(\"2do elemento de la lista: \",mi_lista[1])"
   ]
  },
  {
   "attachments": {},
   "cell_type": "markdown",
   "metadata": {},
   "source": [
    "3) Imprimir por pantalla del segundo al cuarto elemento"
   ]
  },
  {
   "cell_type": "code",
   "execution_count": null,
   "metadata": {},
   "outputs": [
    {
     "name": "stdout",
     "output_type": "stream",
     "text": [
      "2do al 4to elemento de la lista:  ['Roma', 'Paris', 'Kabul', 'Madrid']\n"
     ]
    }
   ],
   "source": [
    "print(\"2do al 4to elemento de la lista: \",mi_lista[1:4])"
   ]
  },
  {
   "attachments": {},
   "cell_type": "markdown",
   "metadata": {},
   "source": [
    "4) Visualizar el tipo de dato de la lista"
   ]
  },
  {
   "cell_type": "code",
   "execution_count": 4,
   "metadata": {},
   "outputs": [
    {
     "name": "stdout",
     "output_type": "stream",
     "text": [
      "Tipo de datos de la lista:  <class 'list'>\n"
     ]
    }
   ],
   "source": [
    "print(\"Tipo de datos de la lista: \", type(mi_lista))"
   ]
  },
  {
   "attachments": {},
   "cell_type": "markdown",
   "metadata": {},
   "source": [
    "5) Visualizar todos los elementos de la lista a partir del tercero de manera genérica, es decir, sin explicitar la posición del último elemento"
   ]
  },
  {
   "cell_type": "code",
   "execution_count": 6,
   "metadata": {},
   "outputs": [
    {
     "name": "stdout",
     "output_type": "stream",
     "text": [
      "Desde el 3er elemento en adelante de la lista:  ['Paris', 'Kabul', 'Madrid', 'Ottawa']\n"
     ]
    }
   ],
   "source": [
    "print(\"Desde el 3er elemento en adelante de la lista: \",mi_lista[2:])"
   ]
  },
  {
   "attachments": {},
   "cell_type": "markdown",
   "metadata": {},
   "source": [
    "6) Visualizar los primeros 4 elementos de la lista"
   ]
  },
  {
   "cell_type": "code",
   "execution_count": 8,
   "metadata": {},
   "outputs": [
    {
     "name": "stdout",
     "output_type": "stream",
     "text": [
      "Ver primeros 4 elementos de la lista:  ['Buenos Aires', 'Roma', 'Paris', 'Kabul']\n"
     ]
    }
   ],
   "source": [
    "print(\"Ver primeros 4 elementos de la lista: \",mi_lista[0:4])"
   ]
  },
  {
   "attachments": {},
   "cell_type": "markdown",
   "metadata": {},
   "source": [
    "7) Agregar una ciudad más a la lista que ya exista y otra que no ¿Arroja algún tipo de error?"
   ]
  },
  {
   "cell_type": "code",
   "execution_count": null,
   "metadata": {},
   "outputs": [
    {
     "name": "stdout",
     "output_type": "stream",
     "text": [
      "Nueva lista:  ['Buenos Aires', 'Roma', 'Paris', 'Kabul', 'Madrid', 'Ottawa', 'Roma', 'Londres']\n"
     ]
    }
   ],
   "source": [
    "mi_lista.append('Roma')\n",
    "mi_lista.append('Londres')\n",
    "print(\"Nueva lista: \", mi_lista)\n",
    "# No arroja ningún error"
   ]
  },
  {
   "attachments": {},
   "cell_type": "markdown",
   "metadata": {},
   "source": [
    "8) Agregar otra ciudad, pero en la cuarta posición"
   ]
  },
  {
   "cell_type": "code",
   "execution_count": 11,
   "metadata": {},
   "outputs": [
    {
     "name": "stdout",
     "output_type": "stream",
     "text": [
      "Agregamos elemento en 4ta posiciún de la  lista:  ['Buenos Aires', 'Roma', 'Paris', 'Pekin', 'Kabul', 'Madrid', 'Ottawa', 'Roma', 'Londres']\n"
     ]
    }
   ],
   "source": [
    "mi_lista.insert(3, 'Pekin')\n",
    "print(\"Agregamos elemento en 4ta posiciún de la  lista: \", mi_lista)"
   ]
  },
  {
   "attachments": {},
   "cell_type": "markdown",
   "metadata": {},
   "source": [
    "9) Concatenar otra lista a la ya creada"
   ]
  },
  {
   "cell_type": "code",
   "execution_count": 12,
   "metadata": {},
   "outputs": [
    {
     "name": "stdout",
     "output_type": "stream",
     "text": [
      "Otra Lista:  ('Hong Kong', 'Montevideo', 'La Paz')\n",
      "Mi Lista:  ['Buenos Aires', 'Roma', 'Paris', 'Pekin', 'Kabul', 'Madrid', 'Ottawa', 'Roma', 'Londres', 'Hong Kong', 'Montevideo', 'La Paz']\n"
     ]
    }
   ],
   "source": [
    "otra_lista=('Hong Kong', 'Montevideo', 'La Paz')\n",
    "print(\"Otra Lista: \",otra_lista)\n",
    "mi_lista.extend(otra_lista)\n",
    "print(\"Mi Lista: \",mi_lista)"
   ]
  },
  {
   "attachments": {},
   "cell_type": "markdown",
   "metadata": {},
   "source": [
    "10) Encontrar el índice de la ciudad que en el punto 7 agregamos duplicada. ¿Se nota alguna particularidad?"
   ]
  },
  {
   "cell_type": "code",
   "execution_count": 13,
   "metadata": {},
   "outputs": [
    {
     "name": "stdout",
     "output_type": "stream",
     "text": [
      "1\n"
     ]
    }
   ],
   "source": [
    "print(mi_lista.index('Roma'))"
   ]
  },
  {
   "attachments": {},
   "cell_type": "markdown",
   "metadata": {},
   "source": [
    "11) ¿Qué pasa si se busca un elemento que no existe?"
   ]
  },
  {
   "cell_type": "code",
   "execution_count": null,
   "metadata": {},
   "outputs": [
    {
     "ename": "ValueError",
     "evalue": "'Santiago' is not in list",
     "output_type": "error",
     "traceback": [
      "\u001b[31m---------------------------------------------------------------------------\u001b[39m",
      "\u001b[31mValueError\u001b[39m                                Traceback (most recent call last)",
      "\u001b[36mCell\u001b[39m\u001b[36m \u001b[39m\u001b[32mIn[21]\u001b[39m\u001b[32m, line 6\u001b[39m\n\u001b[32m      1\u001b[39m \u001b[33;03m\"\"\"\u001b[39;00m\n\u001b[32m      2\u001b[39m \u001b[33;03melemento = 'Santiago'\u001b[39;00m\n\u001b[32m      3\u001b[39m \u001b[33;03melemento_a_buscar = [i for i, x in enumerate(mi_lista) if x == elemento_a_buscar]\u001b[39;00m\n\u001b[32m      4\u001b[39m \u001b[33;03mprint(\"Elemento a buscar en la Lista: \", elemento_a_buscar)\u001b[39;00m\n\u001b[32m      5\u001b[39m \u001b[33;03m\"\"\"\u001b[39;00m\n\u001b[32m----> \u001b[39m\u001b[32m6\u001b[39m \u001b[38;5;28mprint\u001b[39m(\u001b[43mmi_lista\u001b[49m\u001b[43m.\u001b[49m\u001b[43mindex\u001b[49m\u001b[43m(\u001b[49m\u001b[33;43m'\u001b[39;49m\u001b[33;43mSantiago\u001b[39;49m\u001b[33;43m'\u001b[39;49m\u001b[43m)\u001b[49m)\n",
      "\u001b[31mValueError\u001b[39m: 'Santiago' is not in list"
     ]
    }
   ],
   "source": [
    "\"\"\"\n",
    "elemento = 'Santiago'\n",
    "elemento_a_buscar = [i for i, x in enumerate(mi_lista) if x == elemento_a_buscar]\n",
    "print(\"Elemento a buscar en la Lista: \", elemento_a_buscar)\n",
    "\"\"\"\n",
    "print(mi_lista.index('Santiago')) # Genera un Error por que el elemento no se encuentra en la lista"
   ]
  },
  {
   "attachments": {},
   "cell_type": "markdown",
   "metadata": {},
   "source": [
    "12) Eliminar un elemento de la lista"
   ]
  },
  {
   "cell_type": "code",
   "execution_count": 22,
   "metadata": {},
   "outputs": [
    {
     "name": "stdout",
     "output_type": "stream",
     "text": [
      "Antes de eliminar el elemento:  ['Buenos Aires', 'Roma', 'Paris', 'Pekin', 'Kabul', 'Madrid', 'Ottawa', 'Roma', 'Londres', 'Hong Kong', 'Montevideo', 'La Paz']\n",
      "Despues de eliminar el elemento:  ['Buenos Aires', 'Roma', 'Paris', 'Pekin', 'Kabul', 'Madrid', 'Ottawa', 'Londres', 'Hong Kong', 'Montevideo', 'La Paz']\n"
     ]
    }
   ],
   "source": [
    "print(\"Antes de eliminar el elemento: \",mi_lista)\n",
    "mi_lista.pop(7)\n",
    "print(\"Despues de eliminar el elemento: \",mi_lista)"
   ]
  },
  {
   "attachments": {},
   "cell_type": "markdown",
   "metadata": {},
   "source": [
    "13) ¿Qué pasa si el elemento a eliminar no existe?"
   ]
  },
  {
   "cell_type": "code",
   "execution_count": null,
   "metadata": {},
   "outputs": [
    {
     "ename": "IndexError",
     "evalue": "pop index out of range",
     "output_type": "error",
     "traceback": [
      "\u001b[31m---------------------------------------------------------------------------\u001b[39m",
      "\u001b[31mIndexError\u001b[39m                                Traceback (most recent call last)",
      "\u001b[36mCell\u001b[39m\u001b[36m \u001b[39m\u001b[32mIn[23]\u001b[39m\u001b[32m, line 1\u001b[39m\n\u001b[32m----> \u001b[39m\u001b[32m1\u001b[39m \u001b[43mmi_lista\u001b[49m\u001b[43m.\u001b[49m\u001b[43mpop\u001b[49m\u001b[43m(\u001b[49m\u001b[32;43m11\u001b[39;49m\u001b[43m)\u001b[49m\n",
      "\u001b[31mIndexError\u001b[39m: pop index out of range"
     ]
    }
   ],
   "source": [
    "mi_lista.pop(11) # Da un Error el indice indicado está fuera de rango (no existe) "
   ]
  },
  {
   "attachments": {},
   "cell_type": "markdown",
   "metadata": {},
   "source": [
    "14) Extraer el úlimo elemento de la lista, guardarlo en una variable e imprimirlo"
   ]
  },
  {
   "cell_type": "code",
   "execution_count": 24,
   "metadata": {},
   "outputs": [
    {
     "name": "stdout",
     "output_type": "stream",
     "text": [
      "La Paz\n"
     ]
    }
   ],
   "source": [
    "ultimo_elemento = mi_lista[-1]\n",
    "print(ultimo_elemento)"
   ]
  },
  {
   "attachments": {},
   "cell_type": "markdown",
   "metadata": {},
   "source": [
    "15) Mostrar la lista multiplicada por 4"
   ]
  },
  {
   "cell_type": "code",
   "execution_count": 25,
   "metadata": {},
   "outputs": [
    {
     "name": "stdout",
     "output_type": "stream",
     "text": [
      "['Buenos Aires', 'Roma', 'Paris', 'Pekin', 'Kabul', 'Madrid', 'Ottawa', 'Londres', 'Hong Kong', 'Montevideo', 'La Paz', 'Buenos Aires', 'Roma', 'Paris', 'Pekin', 'Kabul', 'Madrid', 'Ottawa', 'Londres', 'Hong Kong', 'Montevideo', 'La Paz', 'Buenos Aires', 'Roma', 'Paris', 'Pekin', 'Kabul', 'Madrid', 'Ottawa', 'Londres', 'Hong Kong', 'Montevideo', 'La Paz', 'Buenos Aires', 'Roma', 'Paris', 'Pekin', 'Kabul', 'Madrid', 'Ottawa', 'Londres', 'Hong Kong', 'Montevideo', 'La Paz']\n"
     ]
    }
   ],
   "source": [
    "print(mi_lista*4)"
   ]
  },
  {
   "attachments": {},
   "cell_type": "markdown",
   "metadata": {},
   "source": [
    "16) Crear una tupla que contenga los números enteros del 1 al 20"
   ]
  },
  {
   "cell_type": "code",
   "execution_count": 28,
   "metadata": {},
   "outputs": [
    {
     "name": "stdout",
     "output_type": "stream",
     "text": [
      "(1, 2, 3, 4, 5, 6, 7, 8, 9, 10, 11, 12, 13, 14, 15, 16, 17, 18, 19, 20)\n"
     ]
    }
   ],
   "source": [
    "mi_tupla = tuple(range(1, 21, 1))\n",
    "print(mi_tupla)"
   ]
  },
  {
   "attachments": {},
   "cell_type": "markdown",
   "metadata": {},
   "source": [
    "17) Imprimir desde el índice 10 al 15 de la tupla"
   ]
  },
  {
   "cell_type": "code",
   "execution_count": 31,
   "metadata": {},
   "outputs": [
    {
     "name": "stdout",
     "output_type": "stream",
     "text": [
      "(10, 11, 12, 13, 14, 15)\n"
     ]
    }
   ],
   "source": [
    "print(mi_tupla[9:15])"
   ]
  },
  {
   "attachments": {},
   "cell_type": "markdown",
   "metadata": {},
   "source": [
    "18) Evaluar si los números 20 y 30 están dentro de la tupla"
   ]
  },
  {
   "cell_type": "code",
   "execution_count": 34,
   "metadata": {},
   "outputs": [
    {
     "name": "stdout",
     "output_type": "stream",
     "text": [
      "El elemento 20 se encuentra!!: True || El elemento 30 se encuentra!!: False\n"
     ]
    }
   ],
   "source": [
    "print(\"El elemento 20 se encuentra!!:\",20 in mi_tupla, \"|| El elemento 30 se encuentra!!:\", 30 in mi_tupla)"
   ]
  },
  {
   "attachments": {},
   "cell_type": "markdown",
   "metadata": {},
   "source": [
    "19) Con la lista creada en el punto 1, validar la existencia del elemento 'París' y si no existe, agregarlo. Utilizar una variable e informar lo sucedido."
   ]
  },
  {
   "cell_type": "code",
   "execution_count": 40,
   "metadata": {},
   "outputs": [
    {
     "name": "stdout",
     "output_type": "stream",
     "text": [
      "Elemento París se encuentra en mi Lista? Resultado =  True\n",
      "'Paris' se encuentra en la lista.\n"
     ]
    }
   ],
   "source": [
    "print(\"Elemento París se encuentra en mi Lista? Resultado = \",'París' in mi_lista)\n",
    "elemento = 'Paris'\n",
    "if elemento in mi_lista:\n",
    "  print(f\"'{elemento}' se encuentra en la lista.\")\n",
    "else:\n",
    "  mi_lista.append(elemento)\n",
    "  print(f\"'{elemento}' se inserto en la lista.\")"
   ]
  },
  {
   "attachments": {},
   "cell_type": "markdown",
   "metadata": {},
   "source": [
    "20) Mostrar la cantidad de veces que se encuentra un elemento específico dentro de la tupla y de la lista"
   ]
  },
  {
   "cell_type": "code",
   "execution_count": 42,
   "metadata": {},
   "outputs": [
    {
     "name": "stdout",
     "output_type": "stream",
     "text": [
      "'1'\n",
      "'1'\n"
     ]
    }
   ],
   "source": [
    "cantidad_en_Lista = mi_lista.count('Paris')\n",
    "cantidad_en_Tupla = mi_tupla.count(10)\n",
    "print(f\"'{cantidad_en_Lista}'\")\n",
    "print(f\"'{cantidad_en_Tupla}'\")"
   ]
  },
  {
   "attachments": {},
   "cell_type": "markdown",
   "metadata": {},
   "source": [
    "21) Convertir la tupla en una lista"
   ]
  },
  {
   "cell_type": "code",
   "execution_count": 43,
   "metadata": {},
   "outputs": [
    {
     "name": "stdout",
     "output_type": "stream",
     "text": [
      "'[1, 2, 3, 4, 5, 6, 7, 8, 9, 10, 11, 12, 13, 14, 15, 16, 17, 18, 19, 20]'\n"
     ]
    }
   ],
   "source": [
    "# Convertir la tupla a lista\n",
    "mi_lista_desde_tupla = list(mi_tupla)\n",
    "print(f\"'{mi_lista_desde_tupla}'\")"
   ]
  },
  {
   "attachments": {},
   "cell_type": "markdown",
   "metadata": {},
   "source": [
    "22) Desempaquetar solo los primeros 3 elementos de la tupla en 3 variables"
   ]
  },
  {
   "cell_type": "code",
   "execution_count": 47,
   "metadata": {},
   "outputs": [
    {
     "name": "stdout",
     "output_type": "stream",
     "text": [
      "Mi Tupla: (1, 2, 3, 4, 5, 6, 7, 8, 9, 10, 11, 12, 13, 14, 15, 16, 17, 18, 19, 20)\n",
      " Uno: 1  Dos: 2  Tres: 3\n"
     ]
    }
   ],
   "source": [
    "print(\"Mi Tupla:\",mi_tupla)\n",
    "(uno, dos, tres,_,_,_,_,_,_,_,_,_,_,_,_,_,_,_,_,_) = mi_tupla\n",
    "print(\" Uno:\",uno,\" Dos:\",dos,\" Tres:\",tres)"
   ]
  },
  {
   "attachments": {},
   "cell_type": "markdown",
   "metadata": {},
   "source": [
    "23) Crear un diccionario utilizando la lista crada en el punto 1, asignandole la clave \"ciudad\". Agregar tambien otras claves, como puede ser \"Pais\" y \"Continente\"."
   ]
  },
  {
   "cell_type": "code",
   "execution_count": 14,
   "metadata": {},
   "outputs": [],
   "source": [
    "mi_diccionario = {\n",
    "                    'ciudad':mi_lista,\n",
    "                    'pais':['Argentina', 'Italia', 'Afganistan', 'Francia','Canada','España'],\n",
    "                    'continente':['America','Europa', 'Oriente','Europa','America','Europa']    \n",
    "                }"
   ]
  },
  {
   "cell_type": "code",
   "execution_count": 15,
   "metadata": {},
   "outputs": [
    {
     "name": "stdout",
     "output_type": "stream",
     "text": [
      "{'ciudad': ['Buenos Aires', 'Roma', 'Paris', 'Kabul', 'Madrid', 'Ottawa'], 'pais': ['Argentina', 'Italia', 'Afganistan', 'Francia', 'Canada', 'España'], 'continente': ['America', 'Europa', 'Oriente', 'Europa', 'America', 'Europa']}\n"
     ]
    }
   ],
   "source": [
    "print(mi_diccionario)"
   ]
  },
  {
   "attachments": {},
   "cell_type": "markdown",
   "metadata": {},
   "source": [
    "24) Imprimir las claves del diccionario"
   ]
  },
  {
   "cell_type": "code",
   "execution_count": 17,
   "metadata": {},
   "outputs": [
    {
     "name": "stdout",
     "output_type": "stream",
     "text": [
      "Claves: dict_keys(['ciudad', 'pais', 'continente'])\n"
     ]
    }
   ],
   "source": [
    "print(\"Claves:\",mi_diccionario.keys())"
   ]
  },
  {
   "attachments": {},
   "cell_type": "markdown",
   "metadata": {},
   "source": [
    "25) Imprimir las ciudades a través de su clave"
   ]
  },
  {
   "cell_type": "code",
   "execution_count": 26,
   "metadata": {},
   "outputs": [
    {
     "name": "stdout",
     "output_type": "stream",
     "text": [
      "['Buenos Aires', 'Roma', 'Paris', 'Kabul', 'Madrid', 'Ottawa']\n"
     ]
    }
   ],
   "source": [
    "print(mi_diccionario['ciudad'])"
   ]
  }
 ],
 "metadata": {
  "kernelspec": {
   "display_name": "Python 3",
   "language": "python",
   "name": "python3"
  },
  "language_info": {
   "codemirror_mode": {
    "name": "ipython",
    "version": 3
   },
   "file_extension": ".py",
   "mimetype": "text/x-python",
   "name": "python",
   "nbconvert_exporter": "python",
   "pygments_lexer": "ipython3",
   "version": "3.13.7"
  }
 },
 "nbformat": 4,
 "nbformat_minor": 4
}
