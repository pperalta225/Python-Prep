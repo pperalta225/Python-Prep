{
 "cells": [
  {
   "attachments": {},
   "cell_type": "markdown",
   "metadata": {},
   "source": [
    "## Funciones"
   ]
  },
  {
   "attachments": {},
   "cell_type": "markdown",
   "metadata": {},
   "source": [
    "1) Crear una función que reciba un número como parámetro y devuelva True si es primo y False si no lo es"
   ]
  },
  {
   "cell_type": "code",
   "execution_count": 10,
   "metadata": {},
   "outputs": [
    {
     "name": "stdout",
     "output_type": "stream",
     "text": [
      "25 no es un número primo.\n"
     ]
    }
   ],
   "source": [
    "def esPrimo(n): \n",
    "    if n <= 1:\n",
    "        return False # \"Los números menores o iguales a 1 NO son primos    \n",
    "    elif n <= 3:\n",
    "        # El Nº 2 y 3 son números primos\n",
    "        return True\n",
    "    elif n == 5:  \n",
    "        # 5 es número primo \n",
    "        return True \n",
    "    elif (n % 2 == 0 or n % 3 == 0 or n % 5 == 0): # Eliminar múltiplos de 2,3 y 5 que sean complejos\n",
    "        return False \n",
    "        # Si el número es par y mayor que 2, no es primo.  \n",
    "    else:\n",
    "        for i in range(2, int(n**0.5) + 1):\n",
    "            # Si encontramos un divisor, no es primo...\n",
    "            if (n % i == 0 or n % (i + 2) == 0):\n",
    "                return False \n",
    "        return True\n",
    "# print(esPrimo(0)) Verificamos\n",
    "# Ahora preguntamos por el retorno de la función...\n",
    "numero = 25\n",
    "if esPrimo(numero):\n",
    "    print(f\"{numero} es un número primo.\")\n",
    "else:\n",
    "    print(f\"{numero} no es un número primo.\")            "
   ]
  },
  {
   "attachments": {},
   "cell_type": "markdown",
   "metadata": {},
   "source": [
    "2) Utilizando la función del punto 1, realizar otra función que reciba de parámetro una lista de números y devuelva sólo aquellos que son primos en otra lista"
   ]
  },
  {
   "cell_type": "code",
   "execution_count": 18,
   "metadata": {},
   "outputs": [
    {
     "name": "stdout",
     "output_type": "stream",
     "text": [
      "Lista de Nros. Primos  [2, 3, 5, 7, 11, 13]\n"
     ]
    }
   ],
   "source": [
    "def listaNumeros(lista):\n",
    "    #print(lista)\n",
    "    contador = 0\n",
    "    nueva_lista = [] # Se crea una lista vacía para almacenar los resultados\n",
    "    for elememto in lista:\n",
    "       if esPrimo(int(elememto)):\n",
    "           nueva_lista.append(elememto)\n",
    "    return nueva_lista       \n",
    "\n",
    "milista = [0,1,2,3,4,5,6,7,8,9,10,11,12,13,14,15]\n",
    "listaNrosPrimos = listaNumeros(milista)\n",
    "print(\"Lista de Nros. Primos \",listaNrosPrimos)"
   ]
  },
  {
   "attachments": {},
   "cell_type": "markdown",
   "metadata": {},
   "source": [
    "3) Crear una función que al recibir una lista de números, devuelva el que más se repite y cuántas veces lo hace. Si hay más de un \"más repetido\", que devuelva cualquiera"
   ]
  },
  {
   "cell_type": "code",
   "execution_count": 27,
   "metadata": {},
   "outputs": [
    {
     "name": "stdout",
     "output_type": "stream",
     "text": [
      "[1, 1, 1, 1, 2, 3, 4, 5, 5, 5, 5, 6, 6, 6, 6, 6, 6, 7, 8, 9]\n",
      "El elemento que más se repite es: [6]\n"
     ]
    }
   ],
   "source": [
    "def esListaVacia (lista):\n",
    "    # Manejar si lista está vacía...\n",
    "    if not lista:  \n",
    "        return False\n",
    "    else:\n",
    "        return True\n",
    "\n",
    "def elemento_mas_repetido(lista):\n",
    "    # listaConteo = {}\n",
    "    frecuencias = {}\n",
    "    for elemento in lista:\n",
    "        # Si el elemento ya está en la lista, incrementa su conteo\n",
    "        # Si no, lo agrega con un conteo de 1\n",
    "        # listaConteo[elemento] = listaConteo.get(elemento, 0) + 1\n",
    "        if elemento in frecuencias:\n",
    "            frecuencias[elemento] += 1\n",
    "        else:\n",
    "            frecuencias[elemento] = 1\n",
    "    \n",
    "    # Inicializar el elemento más repetido y su frecuencia\n",
    "    # mas_repetido = None\n",
    "    #max_frecuencia = -1\n",
    "    # Iterar sobre los elementos y sus conteos para encontrar el más frecuente\n",
    "    #for elemento, frecuencia in listaConteo.items():\n",
    "    #    if frecuencia > max_frecuencia:\n",
    "    #        max_frecuencia = frecuencia\n",
    "    #        mas_repetido = elemento\n",
    "\n",
    "    # Encontrar la frecuencia máxima\n",
    "    max_frecuencia = 0\n",
    "    for frecuencia in frecuencias.values():\n",
    "        if frecuencia > max_frecuencia:\n",
    "            max_frecuencia = frecuencia\n",
    "\n",
    "    # Obtener los elementos con la frecuencia máxima\n",
    "    mas_repetidos = []\n",
    "    for elemento, frecuencia in frecuencias.items():\n",
    "        if frecuencia == max_frecuencia:\n",
    "            mas_repetidos.append(elemento)  \n",
    "    return mas_repetidos\n",
    "\n",
    "miListaNumeros = [1,1,1,1,2,3,4,5,5,5,5,6,6,6,6,6,6,7,8,9]\n",
    "if esListaVacia(miListaNumeros):\n",
    "    print(miListaNumeros)\n",
    "    resultado = elemento_mas_repetido(miListaNumeros)\n",
    "    print(f\"El elemento que más se repite es: {resultado}\") \n",
    "else:\n",
    "    print(\"La lista de contener elementos...\")"
   ]
  },
  {
   "attachments": {},
   "cell_type": "markdown",
   "metadata": {},
   "source": [
    "4) Crear una función que convierta entre grados Celsius, Farenheit y Kelvin<br>\n",
    "Fórmula 1\t: (°C × 9/5) + 32 = °F<br>\n",
    "Fórmula 2\t: °C + 273.15 = °K<br>\n",
    "Debe recibir 3 parámetros: el valor, la medida de orígen y la medida de destino\n"
   ]
  },
  {
   "cell_type": "code",
   "execution_count": null,
   "metadata": {},
   "outputs": [
    {
     "name": "stdout",
     "output_type": "stream",
     "text": [
      "  - 5 C°\n",
      "  Resultado: 41.00 F°\n"
     ]
    }
   ],
   "source": [
    "def convertir(valor, medOrigen, medDestino):\n",
    "    # print(valor, medOrigen, medDestino)\n",
    "    \"\"\"\n",
    "    Convierte un valor de temperatura entre Celsius, Fahrenheit y Kelvin.\n",
    "    Args:\n",
    "        valor (float): El valor numérico de la temperatura.\n",
    "        unidad_origen (str): La unidad de origen ('C' para Celsius, 'F' para Fahrenheit, 'K' para Kelvin).\n",
    "    Returns:\n",
    "        dict: Un diccionario que contiene las temperaturas convertidas a Celsius, Fahrenheit y Kelvin.\n",
    "              Retorna None si la unidad de origen es inválida.\n",
    "    Conversiones (según el parámetro medOrigen):\n",
    "            de F° a C°\n",
    "                    (°F - 32) * 5/9 = °C\n",
    "            de K° a C°            \n",
    "                    °K - 273.15 = °C\n",
    "    \"\"\"\n",
    "    if medOrigen == 'C':\n",
    "        celsius = float(valor)   \n",
    "        if medDestino == 'F':\n",
    "            fahrenheit = (celsius * 9/5) + 32\n",
    "            resultado = {\"Celsius\": celsius, \"Fahrenheit\": fahrenheit, \"Kelvin\": 0}\n",
    "        elif medDestino == 'K':\n",
    "            kelvin = celsius + 273.15\n",
    "            resultado = {\"Celsius\": celsius, \"Fahrenheit\": 0, \"Kelvin\": kelvin}\n",
    "        else:\n",
    "            print('Parámetro de Destino incorrecto')\n",
    "    elif medOrigen == 'K':\n",
    "        print(\"a grados Centigrados\") \n",
    "        \n",
    "    elif medOrigen == 'F':\n",
    "        print(\"a grados Centigrados\")           \n",
    "    return resultado\n",
    "# Convertir 25 grados Celsius a Fahrenheit y Kelvin\n",
    "grados = 5\n",
    "c = 'C'\n",
    "f = 'F'\n",
    "k = 'K'\n",
    "print(f\"  - {grados} {c}°\")\n",
    "resultado = convertir(grados, c, f)\n",
    "\n",
    "if resultado:\n",
    "   if resultado['Fahrenheit'] != 0:\n",
    "        print(f\"  Resultado: {resultado['Fahrenheit']:.2f} {f}°\")\n",
    "   else: \n",
    "        print(f\"  Resultado: {resultado['Kelvin']:.2f} {k}°\")"
   ]
  },
  {
   "attachments": {},
   "cell_type": "markdown",
   "metadata": {},
   "source": [
    "5) Iterando una lista con los tres valores posibles de temperatura que recibe la función del punto 5, hacer un print para cada combinación de los mismos:"
   ]
  },
  {
   "cell_type": "code",
   "execution_count": null,
   "metadata": {},
   "outputs": [],
   "source": []
  },
  {
   "attachments": {},
   "cell_type": "markdown",
   "metadata": {},
   "source": [
    "6) Armar una función que devuelva el factorial de un número. Tener en cuenta que el usuario puede equivocarse y enviar de parámetro un número no entero o negativo"
   ]
  },
  {
   "cell_type": "code",
   "execution_count": 22,
   "metadata": {},
   "outputs": [
    {
     "name": "stdout",
     "output_type": "stream",
     "text": [
      "Factorial de !5 = 120\n"
     ]
    }
   ],
   "source": [
    "def factorial (numero):\n",
    "    if type(numero)== int: # verificamos que el valor sea un entero\n",
    "        if numero < 0:\n",
    "            mensaje = \"El Factorial no está definido para números negativos.\"\n",
    "        elif numero == 0: \n",
    "            mensaje = \"El Factorial de !\"+str(numero)+\" = 1\"\n",
    "        else:\n",
    "            factorial = 1\n",
    "            i = 1\n",
    "            while i <= numero:\n",
    "                # Calculamos el factorial del numero ingresado...\n",
    "                factorial *= i  # Equivalente a factorial = factorial * i\n",
    "                i += 1          # Equivalente a i = i + 1\n",
    "                if numero < i:  # Solo imprimo el valor final del Factorial.\n",
    "                    mensaje = \"Factorial de !\"+str(numero)+\" = \"+str(factorial) \n",
    "    else:\n",
    "        # si el valor ingresado no es un entero o un numero\n",
    "        mensaje = \"Err.: El valor no representa un valor numerico entero!!!\"      \n",
    "    return mensaje    \n",
    "\n",
    "numero = 5\n",
    "print(factorial(numero))"
   ]
  }
 ],
 "metadata": {
  "kernelspec": {
   "display_name": "Python 3",
   "language": "python",
   "name": "python3"
  },
  "language_info": {
   "codemirror_mode": {
    "name": "ipython",
    "version": 3
   },
   "file_extension": ".py",
   "mimetype": "text/x-python",
   "name": "python",
   "nbconvert_exporter": "python",
   "pygments_lexer": "ipython3",
   "version": "3.13.7"
  }
 },
 "nbformat": 4,
 "nbformat_minor": 4
}
