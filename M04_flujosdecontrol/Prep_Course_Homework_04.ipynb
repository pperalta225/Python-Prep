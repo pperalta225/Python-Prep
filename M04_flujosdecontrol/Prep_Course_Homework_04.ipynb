{
 "cells": [
  {
   "attachments": {},
   "cell_type": "markdown",
   "metadata": {},
   "source": [
    "## Flujos de Control"
   ]
  },
  {
   "attachments": {},
   "cell_type": "markdown",
   "metadata": {},
   "source": [
    "1) Crear una variable que contenga un elemento del conjunto de números enteros y luego imprimir por pantalla si es mayor o menor a cero"
   ]
  },
  {
   "cell_type": "code",
   "execution_count": 1,
   "metadata": {},
   "outputs": [
    {
     "name": "stdout",
     "output_type": "stream",
     "text": [
      "El Nº  9  es mayor a 0.\n"
     ]
    }
   ],
   "source": [
    "nNumero = 9\n",
    "if nNumero > 0:\n",
    "    print(\"El Nº \",nNumero, \" es mayor a 0.\")\n",
    "elif nNumero < 0:\n",
    "    print(\"El Nº \",nNumero, \" es menor a 0.\")\n",
    "else:\n",
    "    print(\"El Nº \",nNumero, \" es igual a 0.\")"
   ]
  },
  {
   "attachments": {},
   "cell_type": "markdown",
   "metadata": {},
   "source": [
    "2) Crear dos variables y un condicional que informe si son del mismo tipo de dato"
   ]
  },
  {
   "cell_type": "code",
   "execution_count": 2,
   "metadata": {},
   "outputs": [
    {
     "name": "stdout",
     "output_type": "stream",
     "text": [
      "Las variables 15.3 y 0.25 son del mismo tipo de dato\n"
     ]
    }
   ],
   "source": [
    "VarTipoA = 15.3\n",
    "VarTipoB = 0.25\n",
    "if type(VarTipoA) == type(VarTipoB):\n",
    "    # El formato utilizado a continuación en el print es conocido como f-string o formatted string literals en Python. Las f-strings permiten incrustar expresiones dentro de una cadena de texto mediante llaves {} y el prefijo \"f\" antes de la cadena. Dentro de las llaves, puedes colocar variables, \n",
    "    # expresiones o incluso invocar funciones para su evaluación e inclusión en la cadena resultante.\n",
    "    print(f'Las variables {VarTipoA} y {VarTipoB} son del mismo tipo de dato')\n",
    "    # print(VarTipoA,\" y \",VarTipoB,\" son del mismo tipo de dato\")\n",
    "else:\n",
    "    print(f'Las variables {VarTipoA} y {VarTipoB} no son del mismo tipo de dato')\n",
    "    # print(VarTipoA,\" y \",VarTipoB,\" no son del mismo tipo tipo de dato\")"
   ]
  },
  {
   "attachments": {},
   "cell_type": "markdown",
   "metadata": {},
   "source": [
    "3) Para los valores enteros del 1 al 20, imprimir por pantalla si es par o impar"
   ]
  },
  {
   "cell_type": "code",
   "execution_count": 2,
   "metadata": {},
   "outputs": [
    {
     "name": "stdout",
     "output_type": "stream",
     "text": [
      "Lista de numeros  [1, 2, 3, 4, 5, 6, 7, 8, 9, 10, 11, 12, 13, 14, 15, 16, 17, 18, 19, 20]\n",
      "Numero [ 1 ]  es impar.\n",
      "Numero [ 2 ]  es par.\n",
      "Numero [ 3 ]  es impar.\n",
      "Numero [ 4 ]  es par.\n",
      "Numero [ 5 ]  es impar.\n",
      "Numero [ 6 ]  es par.\n",
      "Numero [ 7 ]  es impar.\n",
      "Numero [ 8 ]  es par.\n",
      "Numero [ 9 ]  es impar.\n",
      "Numero [ 10 ]  es par.\n",
      "Numero [ 11 ]  es impar.\n",
      "Numero [ 12 ]  es par.\n",
      "Numero [ 13 ]  es impar.\n",
      "Numero [ 14 ]  es par.\n",
      "Numero [ 15 ]  es impar.\n",
      "Numero [ 16 ]  es par.\n",
      "Numero [ 17 ]  es impar.\n",
      "Numero [ 18 ]  es par.\n",
      "Numero [ 19 ]  es impar.\n",
      "Numero [ 20 ]  es par.\n"
     ]
    }
   ],
   "source": [
    "lstNumeros = [1,2,3,4,5,6,7,8,9,10,11,12,13,14,15,16,17,18,19,20]\n",
    "print(\"Lista de numeros \", lstNumeros)\n",
    "for numero in range(1, len(lstNumeros) + 1):\n",
    "    if numero % 2 == 0:\n",
    "        print(\"Numero [\",numero,\"]\", \" es par.\")\n",
    "    else:\n",
    "         print(\"Numero [\",numero,\"]\", \" es impar.\")   "
   ]
  },
  {
   "attachments": {},
   "cell_type": "markdown",
   "metadata": {},
   "source": [
    "4) En un ciclo for mostrar para los valores entre 0 y 5 el resultado de elevarlo a la potencia igual a 3"
   ]
  },
  {
   "cell_type": "code",
   "execution_count": null,
   "metadata": {},
   "outputs": [],
   "source": [
    "lista = [1,2,3,4,5] # Lista de números del 1 al 5\n",
    "print(\"Rango de la lista \", lista) # mostramos la lista o rango\n",
    "print(\"-\" * 10) # Separador para el siguiente ejemplo\n",
    "for valor in lista: # recorremos el rango...\n",
    "    print(\"Valor \",valor,\" elevado a la potencia 3 =\", valor**3)"
   ]
  },
  {
   "attachments": {},
   "cell_type": "markdown",
   "metadata": {},
   "source": [
    "5) Crear una variable que contenga un número entero y realizar un ciclo for la misma cantidad de ciclos"
   ]
  },
  {
   "cell_type": "code",
   "execution_count": null,
   "metadata": {},
   "outputs": [],
   "source": [
    "CantidadHasta = 11\n",
    "x = CantidadHasta - 1\n",
    "print(\"Inicio ciclo \"+str(x)+\" veces.\")\n",
    "for i in range(1, CantidadHasta):\n",
    "    # puedo hace run \"pass\" o simplemente hacer lo siguiente\n",
    "    if i < CantidadHasta:\n",
    "        print(\"Vez :\",i, \" de \",x)\n",
    "        x = x - 1\n",
    "        if x == 0:\n",
    "            print(\"Fin ciclo...\")"
   ]
  },
  {
   "attachments": {},
   "cell_type": "markdown",
   "metadata": {},
   "source": [
    "6) Utilizar un ciclo while para realizar el factorial de un número guardado en una variable, sólo si la variable contiene un número entero mayor a 0"
   ]
  },
  {
   "cell_type": "code",
   "execution_count": 6,
   "metadata": {},
   "outputs": [
    {
     "name": "stdout",
     "output_type": "stream",
     "text": [
      "Factorial de !5 = 120\n"
     ]
    }
   ],
   "source": [
    "# Factorial de !5 es igual 120 \n",
    "n = 5\n",
    "if type(n)== int: # verificamos que el valor sea un entero\n",
    "    if n < 0:\n",
    "        print(\"El Factorial no está definido para números negativos\")\n",
    "    elif n == 0: \n",
    "        print(\"El Factorial de !\"+str(n)+\" = 1\")\n",
    "    else:\n",
    "        factorial = 1\n",
    "        i = 1\n",
    "        while i <= n:\n",
    "            # Calculamos el factorial del numero ingresado...\n",
    "            factorial *= i  # Equivalente a factorial = factorial * i\n",
    "            i += 1          # Equivalente a i = i + 1\n",
    "            if n < i: # Solo imprimo el valor final del Factorial.\n",
    "                print(\"Factorial de !\"+str(n)+\" = \"+str(factorial)) \n",
    "else:\n",
    "      # si el valor ingresado no es un entero o un numero\n",
    "      print(\"Err.: El valor no represaenta un valor numerico entero...\")              "
   ]
  },
  {
   "attachments": {},
   "cell_type": "markdown",
   "metadata": {},
   "source": [
    "7) Crear un ciclo for dentro de un ciclo while"
   ]
  },
  {
   "cell_type": "code",
   "execution_count": null,
   "metadata": {},
   "outputs": [],
   "source": [
    "contador = 1\n",
    "while True:\n",
    "    print(\"Inicia WHILE \"+ str(contador)) # Imprime el número del ciclo while\n",
    "    for ciclo in range(1,11): # Establezco un rango donde no incluye al 11\n",
    "        print (\"Ciclo dentro del FOR: \",ciclo) # Imprime el número del ciclo for\n",
    "    contador = contador + 1 \n",
    "    if contador == 5: # Si el contador es igual al un limite establecido ...  \n",
    "        print(\"Fin del WHILE.\") \n",
    "        break  # Salgo del While sino se produce un bucle infinito.         "
   ]
  },
  {
   "attachments": {},
   "cell_type": "markdown",
   "metadata": {},
   "source": [
    "8) Crear un ciclo while dentro de un ciclo for"
   ]
  },
  {
   "cell_type": "code",
   "execution_count": null,
   "metadata": {},
   "outputs": [],
   "source": [
    "\n",
    "for ciclo in range(1,5):\n",
    "    if ciclo < 4:\n",
    "        print(\"Inicia FOR \"+ str(ciclo)) # Imprime el número del veces dentro del For...\n",
    "        contador = 0\n",
    "        while contador < 5:\n",
    "            contador = contador + 1\n",
    "            print (\"Ciclo dentro del WHILE: \",contador) # Imprime el número del ciclos While...\n",
    "    else:\n",
    "        print(\"Fin del FOR.\") \n"
   ]
  },
  {
   "attachments": {},
   "cell_type": "markdown",
   "metadata": {},
   "source": [
    "9) Imprimir los números primos existentes entre 0 y 30"
   ]
  },
  {
   "cell_type": "code",
   "execution_count": 12,
   "metadata": {},
   "outputs": [
    {
     "name": "stdout",
     "output_type": "stream",
     "text": [
      "Números primos entre 0 y 30\n",
      "El Nº 2 es primo.\n",
      "El Nº 3 es primo.\n",
      "El Nº 5 es primo.\n",
      "El Nº 7 es primo.\n",
      "El Nº 11 es primo.\n",
      "El Nº 13 es primo.\n",
      "El Nº 17 es primo.\n",
      "El Nº 19 es primo.\n",
      "El Nº 23 es primo.\n",
      "El Nº 29 es primo.\n"
     ]
    }
   ],
   "source": [
    "# Los números primos entre 0 y 30 son: 2,3,5,7,11,13,17,19,23,29.\n",
    "print (\"Números primos entre 0 y 30\")\n",
    "for n in range(0,30):\n",
    "    if n <= 1:\n",
    "        continue        # print(\"Los números menores o iguales a 1 NO son primos \", n)    \n",
    "    elif n <= 3:\n",
    "        print(\"El Nº \"+str(n)+\" es primo.\") # 2 y 3 son números primos\n",
    "    elif n == 5:  \n",
    "         print(\"El Nº \"+str(n)+\" es primo.\") # 5 es número primo  \n",
    "    elif (n % 2 == 0 or n % 3 == 0 or n % 5 == 0): # Eliminar múltiplos de 2,3 y 5\n",
    "        continue #print(\"Si el número es par y mayor que 2, no es primo \", n)   \n",
    "    else:\n",
    "        for i in range(2, int(n**0.5) + 1):\n",
    "            # Si encontramos un divisor, no es primo...\n",
    "            if (n % i == 0 or n % (i + 2) == 0):\n",
    "                break \n",
    "        print(\"El Nº \"+str(n)+\" es primo.\")            "
   ]
  },
  {
   "attachments": {},
   "cell_type": "markdown",
   "metadata": {},
   "source": [
    "10) ¿Se puede mejorar el proceso del punto 9? Utilizar las sentencias break y/ó continue para tal fin"
   ]
  },
  {
   "cell_type": "code",
   "execution_count": null,
   "metadata": {},
   "outputs": [],
   "source": [
    "# Los números primos entre 0 y 30 son: 2,3,5,7,11,13,17,19,23,29.\n",
    "print (\"Números primos entre 0 y 30\")\n",
    "for n in range(0,30):\n",
    "    if n <= 1:\n",
    "        continue  # (\"Los números menores o iguales a 1 NO son primos\")    \n",
    "    elif n <= 3:\n",
    "        print(\"El Nº \"+str(n)+\" es primo.\") # 2 y 3 son números primos\n",
    "    elif n == 5:  \n",
    "         print(\"El Nº \"+str(n)+\" es primo.\") # 5 es número primo  \n",
    "    elif (n % 2 == 0 or n % 3 == 0 or n % 5 == 0): # Eliminar múltiplos de 2,3 y 5\n",
    "        continue # (\"Si el número es par y mayor que 2, no es primo\")   \n",
    "    else:\n",
    "        for i in range(2, int(n**0.5) + 1):\n",
    "            # Si encontramos un divisor, no es primo...\n",
    "            if (n % i == 0 or n % (i + 2) == 0):\n",
    "                break \n",
    "        print(\"El Nº \"+str(n)+\" es primo.\")            "
   ]
  },
  {
   "attachments": {},
   "cell_type": "markdown",
   "metadata": {},
   "source": [
    "11) En los puntos 9 y 10, se diseño un código que encuentra números primos y además se lo optimizó. ¿Es posible saber en qué medida se optimizó?"
   ]
  },
  {
   "cell_type": "code",
   "execution_count": null,
   "metadata": {},
   "outputs": [],
   "source": [
    "# Se pide un rango de números primos entre 0 y 30 (2,3,5,7,11,13,17,19,23,29).\n",
    "print (\"Números primos entre 0 y 30...\")\n",
    "for n in range(0,30): # se establece el rango... \n",
    "    if n <= 1: \n",
    "        continue  # Los números menores o iguales a 1 NO son primos    \n",
    "    elif n <= 3:\n",
    "        print(\"El Nº \"+str(n)+\" es primo.\") # 2 y 3 son números primos.\n",
    "    elif n == 5:  \n",
    "         print(\"El Nº \"+str(n)+\" es primo.\") # 5 es número primo.\n",
    "    # Eliminar múltiplos de 2,3 y 5. Puesto que podría imprimir el 9 o el 25 que números compuestos.       \n",
    "    elif (n % 2 == 0 or n % 3 == 0 or n % 5 == 0): \n",
    "        continue # Si el número es par y mayor que 2, no es primo.   \n",
    "    else:\n",
    "        for i in range(2, int(n**0.5) + 1):\n",
    "            # Si encontramos un divisor, no es primo...\n",
    "            if (n % i == 0 or n % (i + 2) == 0):\n",
    "                break # Forzamos la salida del if... (se puede reemplazar por eun False/True)\n",
    "        print(\"El Nº \"+str(n)+\" es primo.\") # Exteriorizamos por pantalla \n",
    "                                            # los Números Primos del rango dado.            "
   ]
  },
  {
   "attachments": {},
   "cell_type": "markdown",
   "metadata": {},
   "source": [
    "12) Aplicando continue, armar un ciclo while que solo imprima los valores divisibles por 12, dentro del rango de números de 100 a 300"
   ]
  },
  {
   "cell_type": "code",
   "execution_count": null,
   "metadata": {},
   "outputs": [],
   "source": [
    "num = 100  # Inicia el contador en 100\n",
    "while num <= 300:\n",
    "    # Calcula el resto de la división de num entre 12\n",
    "    resto = num % 12\n",
    "    # Si el resto no es 0, significa que no es un múltiplo de 12\n",
    "    if resto != 0:\n",
    "        num += 1  # Incrementa el número\n",
    "        continue  # Salta el resto del código y va a la siguiente iteración\n",
    "    # Si el resto es 0, es un múltiplo de 12\n",
    "    print(\"El Nº\",num,\"es múltiplo de 12.\")  # Imprime el múltiplo de 12\n",
    "    num += 1  # Incrementa el número para la siguiente iteración"
   ]
  },
  {
   "attachments": {},
   "cell_type": "markdown",
   "metadata": {},
   "source": [
    "13) Utilizar la función **input()** que permite hacer ingresos por teclado, para encontrar números primos y dar la opción al usario de buscar el siguiente"
   ]
  },
  {
   "cell_type": "code",
   "execution_count": null,
   "metadata": {},
   "outputs": [
    {
     "name": "stdout",
     "output_type": "stream",
     "text": [
      "1\n",
      "¿Desea encontrar el siguiente número primo?\n"
     ]
    }
   ],
   "source": [
    "n = 1\n",
    "sigue = 1\n",
    "primo = True\n",
    "while (sigue == 1):\n",
    "    for div in range(2, n):\n",
    "        if (n % div == 0):\n",
    "            primo = False\n",
    "            break\n",
    "    if (primo):\n",
    "        print(n)\n",
    "        print('¿Desea encontrar el siguiente número primo?')\n",
    "        if (input() != '1'):\n",
    "            print('Se finaliza el proceso')\n",
    "            break\n",
    "    else:\n",
    "        primo = True\n",
    "    n += 1"
   ]
  },
  {
   "attachments": {},
   "cell_type": "markdown",
   "metadata": {},
   "source": [
    "14) Crear un ciclo while que encuentre dentro del rango de 100 a 300 el primer número divisible por 3 y además múltiplo de 6"
   ]
  },
  {
   "cell_type": "code",
   "execution_count": null,
   "metadata": {},
   "outputs": [
    {
     "name": "stdout",
     "output_type": "stream",
     "text": [
      "El primer número es: 102\n"
     ]
    }
   ],
   "source": [
    "for numero in range(100, 301): # Establecemos el rango\n",
    "  if numero % 6 == 0:  # Un número es múltiplo de 6 si su residuo (resto) al dividir por 6 es 0    print(f\"El primer número es: {numero}\")\n",
    "    break # Detiene el bucle una vez que encuentra el primer número"
   ]
  }
 ],
 "metadata": {
  "kernelspec": {
   "display_name": "Python 3",
   "language": "python",
   "name": "python3"
  },
  "language_info": {
   "codemirror_mode": {
    "name": "ipython",
    "version": 3
   },
   "file_extension": ".py",
   "mimetype": "text/x-python",
   "name": "python",
   "nbconvert_exporter": "python",
   "pygments_lexer": "ipython3",
   "version": "3.13.7"
  }
 },
 "nbformat": 4,
 "nbformat_minor": 4
}
