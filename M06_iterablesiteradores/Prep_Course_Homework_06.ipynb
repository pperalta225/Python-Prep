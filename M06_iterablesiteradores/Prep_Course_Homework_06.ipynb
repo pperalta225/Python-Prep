{
 "cells": [
  {
   "attachments": {},
   "cell_type": "markdown",
   "metadata": {},
   "source": [
    "## Iteradores e iterables"
   ]
  },
  {
   "attachments": {},
   "cell_type": "markdown",
   "metadata": {},
   "source": [
    "1) A partir de una lista vacía, utilizar un ciclo while para cargar allí números negativos del -15 al -1"
   ]
  },
  {
   "cell_type": "code",
   "execution_count": null,
   "metadata": {},
   "outputs": [],
   "source": [
    "lista = [] # Creamos la lista vacía\n",
    "print(\"Lista vacía \",lista)\n",
    "i = 15 # Limite, para llenar la lista con 15 elementos\n",
    "contador = 1\n",
    "while contador <= i:\n",
    "    numero = contador * (-1)\n",
    "    lista.append(numero)\n",
    "    contador += 1\n",
    "# Mostramos la lista con los números generados con signo negativo\n",
    "print(\"Lista llena \",lista)\n",
    "lista_invertida = lista.reverse # o se puede utilizar \"lista[::-1]\" que tiene el mismo efecto\"    \n",
    "# Mostramos la lista final\n",
    "print(lista_invertida)"
   ]
  },
  {
   "attachments": {},
   "cell_type": "markdown",
   "metadata": {},
   "source": [
    "2) ¿Con un ciclo while sería posible recorrer la lista para imprimir sólo los números pares?"
   ]
  },
  {
   "cell_type": "code",
   "execution_count": null,
   "metadata": {},
   "outputs": [],
   "source": [
    "print(lista)\n",
    "contador = 0\n",
    "print(\"Cantidad de elementos en lista:\",len(lista))\n",
    "while contador < len(lista):\n",
    "    if lista[contador] % 2 == 0:\n",
    "        # soloPares = lista[contador]\n",
    "        print(\"Pares:\",lista[contador])\n",
    "    contador += 1"
   ]
  },
  {
   "attachments": {},
   "cell_type": "markdown",
   "metadata": {},
   "source": [
    "3) Resolver el punto anterior sin utilizar un ciclo while"
   ]
  },
  {
   "cell_type": "code",
   "execution_count": 41,
   "metadata": {},
   "outputs": [
    {
     "name": "stdout",
     "output_type": "stream",
     "text": [
      "[-2, -4, -6, -8, -10, -12, -14]\n"
     ]
    }
   ],
   "source": [
    "# Puedo utilizar un for... pero aplicao lo aprendido en la clase.\n",
    "paresLista = [x for x in lista if x%2 == 0]\n",
    "print(paresLista)"
   ]
  },
  {
   "attachments": {},
   "cell_type": "markdown",
   "metadata": {},
   "source": [
    "4) Utilizar el iterable para recorrer sólo los primeros 3 elementos"
   ]
  },
  {
   "cell_type": "code",
   "execution_count": null,
   "metadata": {},
   "outputs": [
    {
     "name": "stdout",
     "output_type": "stream",
     "text": [
      "[-1, -2, -3]\n"
     ]
    }
   ],
   "source": [
    "TresPrimerosLista = [x for x in lista[:3] if x < 0]\n",
    "print(TresPrimerosLista)"
   ]
  },
  {
   "attachments": {},
   "cell_type": "markdown",
   "metadata": {},
   "source": [
    "5) Utilizar la función **enumerate** para obtener dentro del iterable, tambien el índice al que corresponde el elemento"
   ]
  },
  {
   "cell_type": "code",
   "execution_count": null,
   "metadata": {},
   "outputs": [],
   "source": [
    "Lista2 = [-1, -2, -3, -4, -5, -6, -7, -8, -9, -10, -11, -12, -13, -14, -15]\n",
    "\n",
    "# Bucle básico con enumerate\n",
    "for i, x in enumerate(Lista2, start=1): # Usando el argumento start para comenzar la numeración desde 1\n",
    "    print(f\"Índice: {i}, Elemento: {x}\")"
   ]
  },
  {
   "attachments": {},
   "cell_type": "markdown",
   "metadata": {},
   "source": [
    "6) Dada la siguiente lista de números enteros entre 1 y 20, crear un ciclo donde se completen los valores faltantes: lista = [1,2,5,7,8,10,13,14,15,17,20]"
   ]
  },
  {
   "cell_type": "code",
   "execution_count": null,
   "metadata": {},
   "outputs": [
    {
     "name": "stdout",
     "output_type": "stream",
     "text": [
      "Lista Inicial: [1, 2, 5, 7, 8, 10, 13, 14, 15, 17, 20]\n",
      "Agregar los números faltantes: 3,4,6,9,11,12,16,18,19\n",
      "Lista Final:  [1, 2, 3, 4, 5, 6, 7, 8, 9, 10, 11, 12, 13, 14, 15, 16, 17, 18, 19, 20]\n"
     ]
    }
   ],
   "source": [
    "# Lista actual\n",
    "Lista3 = [1,2,5,7,8,10,13,14,15,17,20] \n",
    "# faltan agregar los números 3,4,6,9,11,12,16,18,19\n",
    "print(\"Lista Inicial:\",Lista3)\n",
    "print(\"Agregar los números faltantes: 3,4,6,9,11,12,16,18,19\")\n",
    "for x in range(1, 21):\n",
    "    if x not in Lista3:\n",
    "        Lista3.insert(x-1, x) # ...los argumentos del metodo son \"el índice donde se debe insertar el elemento\" y el \"elemento a insertar\"\n",
    "print(\"Lista Final: \",Lista3)      "
   ]
  },
  {
   "attachments": {},
   "cell_type": "markdown",
   "metadata": {},
   "source": [
    "7) La sucesión de Fibonacci es un listado de números que sigue la fórmula: <br>\n",
    "n<sub>0</sub> = 0<br>\n",
    "n<sub>1</sub> = 1<br>\n",
    "n<sub>i</sub> = n<sub>i-1</sub> + n<sub>i-2</sub><br>\n",
    "Crear una lista con los primeros treinta números de la sucesión.<br>"
   ]
  },
  {
   "cell_type": "code",
   "execution_count": null,
   "metadata": {},
   "outputs": [
    {
     "name": "stdout",
     "output_type": "stream",
     "text": [
      "0 1 1 2 3 5 8 13 21 34 55 89 144 233 377 610 987 1597 2584 4181 6765 10946 17711 28657 46368 75025 121393 196418 317811 514229\n"
     ]
    }
   ],
   "source": [
    "#  Fibonacci:\n",
    "#  La secuencia de Fibonacci comienza con 0 y 1, y cada número es la suma de los dos anteriores.\n",
    "rango = 30 # determino el rango hasta\n",
    "# inicializo la secuencia Fibonacci comenzando por 0 y 1\n",
    "a = 0 \n",
    "b = 1\n",
    "# declaro una lista vacía\n",
    "ListaFibonacci = []\n",
    "for _ in range(rango):\n",
    "    # agrega el número actual de la secuencia a la lista\n",
    "    ListaFibonacci.append(str(a))\n",
    "    # actualiza 'a' y 'b' \n",
    "    # 'a' toma el valor de 'b'\n",
    "    # 'b' se convierte en la suma de laos valores anteriores de 'a' y 'b'\n",
    "    a, b = b, a + b\n",
    "# genera la lista de los primeros 30 números de Fibonacci    \n",
    "print(' '.join(ListaFibonacci))"
   ]
  },
  {
   "attachments": {},
   "cell_type": "markdown",
   "metadata": {},
   "source": [
    "8) Realizar la suma de todos elementos de la lista del punto anterior"
   ]
  },
  {
   "cell_type": "code",
   "execution_count": 45,
   "metadata": {},
   "outputs": [
    {
     "name": "stdout",
     "output_type": "stream",
     "text": [
      "Lista:  ['0', '1', '1', '2', '3', '5', '8', '13', '21', '34', '55', '89', '144', '233', '377', '610', '987', '1597', '2584', '4181', '6765', '10946', '17711', '28657', '46368', '75025', '121393', '196418', '317811', '514229']\n",
      "Suma Total de elementos de la lista con función sum(): 1346268\n"
     ]
    }
   ],
   "source": [
    "print(\"Lista: \",ListaFibonacci)\n",
    "sumaListaFibonacci = sum(int(e) for e in ListaFibonacci) # Usando la función sum() (la forma más recomendada)\n",
    "print(f\"Suma Total de elementos de la lista con función sum(): {sumaListaFibonacci}\") "
   ]
  },
  {
   "attachments": {},
   "cell_type": "markdown",
   "metadata": {},
   "source": [
    "9) La proporción aurea se expresa con una proporción matemática que nace el número irracional Phi= 1,618… que los griegos llamaron número áureo. El cuál se puede aproximar con la sucesión de Fibonacci. Con la lista del ejercicio anterior, imprimir el cociente de los últimos 5 pares de dos números contiguos:<br>\n",
    "Donde i es la cantidad total de elementos<br>\n",
    "n<sub>i-1</sub> / n<sub>i</sub><br>\n",
    "n<sub>i-2</sub> / n<sub>i-1</sub><br>\n",
    "n<sub>i-3</sub> / n<sub>i-2</sub><br>\n",
    "n<sub>i-4</sub> / n<sub>i-3</sub><br>\n",
    "n<sub>i-5</sub> / n<sub>i-4</sub><br>\n",
    " "
   ]
  },
  {
   "cell_type": "code",
   "execution_count": null,
   "metadata": {},
   "outputs": [
    {
     "name": "stdout",
     "output_type": "stream",
     "text": [
      "La secuencia Fibonacci generada (últimos números): ['75025', '121393', '196418', '317811', '514229']\n",
      "Últimos 5 pares contiguos de la secuencia Fibonacci: [[75025, 121393], [121393, 196418], [196418, 317811], [317811, 514229]]\n",
      "Proporciones áureas de los últimos 5 pares: [1.6180339886704431, 1.6180339887802426, 1.618033988738303, 1.6180339887543225]\n"
     ]
    }
   ],
   "source": [
    "\"\"\"\n",
    "    Genera una lista con los primeros n_terminos de la secuencia de Fibonacci.\n",
    "\"\"\"\n",
    "miListaFibonacci = list(map(int, ListaFibonacci)) # Convertir los elementos a enteros de la lista \n",
    "ultimos5Pares = []\n",
    "for i in range(len(miListaFibonacci) - 5,  len(miListaFibonacci) - 1):\n",
    "    if 1+i < len(miListaFibonacci):\n",
    "       ultimos5Pares.append([miListaFibonacci[i], miListaFibonacci[i+1]]) \n",
    "\n",
    "proporcionAurea = []\n",
    "for x in ultimos5Pares:\n",
    "     # Evitar división por cero si el primer número es 0\n",
    "    if x[0] != 0: \n",
    "       proporcion = x[1] / x[0]\n",
    "       proporcionAurea.append(proporcion)\n",
    "    else:\n",
    "        # El primer par (0, 1) no puede ser usado directamente para la proporción áurea\n",
    "        # pero es necesario para construir la secuencia Fibonacci\n",
    "        pass \n",
    "\n",
    "print(f\"La secuencia Fibonacci generada (últimos números): {ListaFibonacci[-5:]}\") # Muestra los últimos 10 números para contexto\n",
    "print(f\"Últimos 5 pares contiguos de la secuencia Fibonacci: {ultimos5Pares}\")\n",
    "print(f\"Proporciones áureas de los últimos 5 pares: {proporcionAurea}\") "
   ]
  },
  {
   "attachments": {},
   "cell_type": "markdown",
   "metadata": {},
   "source": [
    "10) A partir de la variable cadena ya dada, mostrar en qué posiciones aparece la letra \"n\"<br>\n",
    "cadena = 'Hola Mundo. Esto es una practica del lenguaje de programación Python'"
   ]
  },
  {
   "cell_type": "code",
   "execution_count": null,
   "metadata": {},
   "outputs": [
    {
     "name": "stdout",
     "output_type": "stream",
     "text": [
      "Las posiciones de 'ñ' en la cadena 'Hola Mundo. Esto es una practica del lenguaje de programación Python' son: []\n"
     ]
    }
   ],
   "source": [
    "cadena = 'Hola Mundo. Esto es una practica del lenguaje de programación Python'\n",
    "caracter = 'n'\n",
    "\n",
    "#posicion = cadena.find(caracter)\n",
    "#if posicion != -1:\n",
    "#    print(f\"El carácter '{caracter}' se encontró en la posición: {posicion}\")\n",
    "#else:\n",
    "#    print(f\"El carácter '{caracter}' no se encontró en la cadena.\")   \n",
    "\n",
    "posiciones = []\n",
    "i = 0\n",
    "while True:\n",
    "    posicion = cadena.find(caracter, i)\n",
    "    if posicion != -1:\n",
    "        posiciones.append(posicion)\n",
    "        i = posicion + 1 # Para buscar la siguiente ocurrencia\n",
    "    else:\n",
    "        break\n",
    "\n",
    "print(f\"Las posiciones de '{caracter}' en la cadena '{cadena}' son: {posiciones}\")"
   ]
  },
  {
   "attachments": {},
   "cell_type": "markdown",
   "metadata": {},
   "source": [
    "11) Crear un diccionario e imprimir sus claves utilizando un iterador"
   ]
  },
  {
   "cell_type": "code",
   "execution_count": null,
   "metadata": {},
   "outputs": [],
   "source": [
    "# Listas de ejemplo\n",
    "claves = [1, 2, 3, 4, 5]\n",
    "valores = ['a', 'b', 'c', 'd', 'e']\n",
    "# Crear el diccionario usando comprensión de diccionario y zip()\n",
    "miDiccionario = {clave: valor for clave, valor in zip(claves, valores)}\n",
    "print(miDiccionario)\n",
    "# Imprimo las claves iterando...\n",
    "for i in miDiccionario:\n",
    "    print(\"Clave:\",i)"
   ]
  },
  {
   "attachments": {},
   "cell_type": "markdown",
   "metadata": {},
   "source": [
    "12) Convertir en una lista la variable \"cadena\" del punto 10 y luego recorrerla con un iterador "
   ]
  },
  {
   "cell_type": "code",
   "execution_count": null,
   "metadata": {},
   "outputs": [
    {
     "name": "stdout",
     "output_type": "stream",
     "text": [
      "<class 'str'>\n",
      "<class 'list'>\n"
     ]
    }
   ],
   "source": [
    "cadena = 'Hola Mundo. Esto es una practica del lenguaje de programación Python'\n",
    "print(type(cadena))\n",
    "# Convertimos a una lista...\n",
    "miLista = list(cadena)\n",
    "print(type(miLista))"
   ]
  },
  {
   "cell_type": "code",
   "execution_count": null,
   "metadata": {},
   "outputs": [],
   "source": [
    "# print(miLista)\n",
    "# no uso el iterado con un for sino que Imprime cada elemento con un salto de línea\n",
    "# print(\"\\n\".join(miLista))\n",
    "\n",
    "# Iteramos la Lista\n",
    "indice = 0\n",
    "while indice < len(miLista):\n",
    "    print(miLista[indice])\n",
    "    indice += 1"
   ]
  },
  {
   "attachments": {},
   "cell_type": "markdown",
   "metadata": {},
   "source": [
    "13) Crear dos listas y unirlas en una tupla utilizando la función zip"
   ]
  },
  {
   "cell_type": "code",
   "execution_count": 6,
   "metadata": {},
   "outputs": [
    {
     "name": "stdout",
     "output_type": "stream",
     "text": [
      "[('Ana', 'Gómez'), ('Luis', 'Rodríguez'), ('Marta', 'Pérez'), ('Pablo', 'Peralta')]\n"
     ]
    }
   ],
   "source": [
    "nombres = [\"Ana\", \"Luis\", \"Marta\", \"Pablo\"]\n",
    "apellidos = [\"Gómez\", \"Rodríguez\", \"Pérez\", \"Peralta\"]\n",
    "\n",
    "nombresCompletos = zip(nombres, apellidos)\n",
    "print(list(nombresCompletos))"
   ]
  },
  {
   "attachments": {},
   "cell_type": "markdown",
   "metadata": {},
   "source": [
    "14) A partir de la siguiente lista de números, crear una nueva sólo si el número es divisible por 7<br>\n",
    "lis = [18,21,29,32,35,42,56,60,63,71,84,90,91,100]"
   ]
  },
  {
   "cell_type": "code",
   "execution_count": 34,
   "metadata": {},
   "outputs": [
    {
     "name": "stdout",
     "output_type": "stream",
     "text": [
      "Lista  [18, 21, 29, 32, 35, 42, 56, 60, 63, 71, 84, 90, 91, 100]\n",
      "Lista Nros. divisible por 7  [21, 35, 42, 56, 63, 84, 91]\n"
     ]
    }
   ],
   "source": [
    "listaNumeros = [18,21,29,32,35,42,56,60,63,71,84,90,91,100]\n",
    "print(\"Lista \",listaNumeros)\n",
    "\n",
    "#for numero in range(0, len(listaNumeros)):\n",
    "#    if listaNumeros[numero] % 7 == 0:\n",
    "listaDivisiblePor7 = [numero for numero in listaNumeros if numero % 7 == 0]\n",
    "        # print(\"Nº \",listaNumeros[numero], \"es divisible por 7.\")\n",
    "    # else:\n",
    "        # print(\"Nº \",listaNumeros[numero],\" no es divisible por 7.\")   \n",
    "print(\"Lista Nros. divisible por 7 \",listaDivisiblePor7)"
   ]
  },
  {
   "attachments": {},
   "cell_type": "markdown",
   "metadata": {},
   "source": [
    "15) A partir de la lista de a continuación, contar la cantidad total de elementos que contiene, teniendo en cuenta que un elemento de la lista podría ser otra lista:<br>\n",
    "lis = [[1,2,3,4],'rojo','verde',[True,False,False],['uno','dos','tres']]"
   ]
  },
  {
   "cell_type": "code",
   "execution_count": 58,
   "metadata": {},
   "outputs": [
    {
     "name": "stdout",
     "output_type": "stream",
     "text": [
      "Lista: [[1, 2, 3, 4], 'rojo', 'verde', [True, False, False], ['uno', 'dos', 'tres']]\n",
      "Cantidad de elementos: 5\n",
      "Elemento [ 0 ] =  [1, 2, 3, 4]\n",
      "La sublista [1, 2, 3, 4] contiene 4 elementos.\n",
      "Elemento [ 1 ] =  rojo\n",
      "Elemento [ 2 ] =  verde\n",
      "Elemento [ 3 ] =  [True, False, False]\n",
      "La sublista [True, False, False] contiene 3 elementos.\n",
      "Elemento [ 4 ] =  ['uno', 'dos', 'tres']\n",
      "La sublista ['uno', 'dos', 'tres'] contiene 3 elementos.\n",
      "El número total de elementos (incluyendo sub-elementos) es: 12\n"
     ]
    }
   ],
   "source": [
    "Lista4 = [[1,2,3,4],'rojo','verde',[True,False,False],['uno','dos','tres']]\n",
    "print(\"Lista:\",Lista4)\n",
    "print(\"Cantidad de elementos:\",len(Lista4))\n",
    "conteo_total = 0\n",
    "\n",
    "for item in Lista4:\n",
    "    print(\"Elemento [\",Lista4.index(item),\"] = \",item)\n",
    "    if isinstance(item, list):  # Comprueba si el elemento es una lista\n",
    "        conteo_total += len(item)  # Suma la longitud de la sublista\n",
    "        # Para contar elementos específicos dentro de sublistas, podrías usar:\n",
    "        conteo_de_sublista = len(item) #.count(item)\n",
    "        print(f\"La sublista {item} contiene {conteo_de_sublista} elementos.\")\n",
    "    else:\n",
    "        conteo_total += 1\n",
    "print(f\"El número total de elementos (incluyendo sub-elementos) es: {conteo_total}\")"
   ]
  },
  {
   "attachments": {},
   "cell_type": "markdown",
   "metadata": {},
   "source": [
    "16) Tomar la lista del punto anterior y convertir cada elemento en una lista si no lo es"
   ]
  },
  {
   "cell_type": "code",
   "execution_count": null,
   "metadata": {},
   "outputs": [
    {
     "name": "stdout",
     "output_type": "stream",
     "text": [
      "[[1, 2, 3, 4], ['rojo'], ['verde'], [True, False, False], ['uno', 'dos', 'tres']]\n"
     ]
    }
   ],
   "source": [
    "Lista5 = [[1,2,3,4],'rojo','verde',[True,False,False],['uno','dos','tres']]\n",
    "\n",
    "lista_convertida = [list([item]) if not isinstance(item, list) else item for item in Lista5]\n",
    "# list([item]) hace que la palabra 'rojo' quede como ['rojo'] y no ['r','o','j','o']\n",
    "print(lista_convertida)"
   ]
  }
 ],
 "metadata": {
  "kernelspec": {
   "display_name": "Python 3",
   "language": "python",
   "name": "python3"
  },
  "language_info": {
   "codemirror_mode": {
    "name": "ipython",
    "version": 3
   },
   "file_extension": ".py",
   "mimetype": "text/x-python",
   "name": "python",
   "nbconvert_exporter": "python",
   "pygments_lexer": "ipython3",
   "version": "3.13.7"
  }
 },
 "nbformat": 4,
 "nbformat_minor": 4
}
