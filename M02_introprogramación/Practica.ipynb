{
 "cells": [
  {
   "attachments": {},
   "cell_type": "markdown",
   "metadata": {},
   "source": [
    "Este es un archivo de prueba, sin actividades =) .\n",
    "\n",
    "A partir del próximo módulo: M03_variablesydatos vas a tener actividades para realizar."
   ]
  },
  {
   "cell_type": "code",
   "execution_count": 1,
   "metadata": {},
   "outputs": [
    {
     "name": "stdout",
     "output_type": "stream",
     "text": [
      "Hola Mundo!\n",
      "Numero =  20\n",
      "Numero =  19\n",
      "Numero =  18\n",
      "Numero =  17\n",
      "Numero =  16\n",
      "Numero =  15\n",
      "Numero =  14\n",
      "Numero =  13\n",
      "Numero =  12\n",
      "Numero =  11\n",
      "Numero =  10\n",
      "Numero =  9\n",
      "Numero =  8\n",
      "Numero =  7\n",
      "Numero =  6\n",
      "Numero =  5\n",
      "Numero =  4\n",
      "Numero =  3\n",
      "Numero =  2\n",
      "Numero =  1\n"
     ]
    }
   ],
   "source": [
    "print('Hola Mundo!')\n",
    "a = 20\n",
    "while a > 0:\n",
    "    \n",
    "    print(\"Numero = \",a)\n",
    "    a -= 1"
   ]
  }
 ],
 "metadata": {
  "kernelspec": {
   "display_name": "Python 3",
   "language": "python",
   "name": "python3"
  },
  "language_info": {
   "codemirror_mode": {
    "name": "ipython",
    "version": 3
   },
   "file_extension": ".py",
   "mimetype": "text/x-python",
   "name": "python",
   "nbconvert_exporter": "python",
   "pygments_lexer": "ipython3",
   "version": "3.13.7"
  },
  "orig_nbformat": 4
 },
 "nbformat": 4,
 "nbformat_minor": 2
}
