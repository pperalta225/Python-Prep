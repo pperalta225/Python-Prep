{
 "cells": [
  {
   "attachments": {},
   "cell_type": "markdown",
   "metadata": {},
   "source": [
    "Este es un archivo de prueba, sin actividades =) .\n",
    "\n",
    "A partir del próximo módulo: M03_variablesydatos vas a tener actividades para realizar."
   ]
  },
  {
   "cell_type": "code",
   "execution_count": 2,
   "metadata": {},
   "outputs": [
    {
     "name": "stdout",
     "output_type": "stream",
     "text": [
      "Hola Mundo!\n",
      "Num.  20\n",
      "Num.  19\n",
      "Num.  18\n",
      "Num.  17\n",
      "Num.  16\n",
      "Num.  15\n",
      "Num.  14\n",
      "Num.  13\n",
      "Num.  12\n",
      "Num.  11\n",
      "Num.  10\n",
      "Num.  9\n",
      "Num.  8\n",
      "Num.  7\n",
      "Num.  6\n",
      "Num.  5\n",
      "Num.  4\n",
      "Num.  3\n",
      "Num.  2\n",
      "Num.  1\n"
     ]
    }
   ],
   "source": [
    "print('Hola Mundo!')\n",
    "a = 20\n",
    "while a > 0:\n",
    "    \n",
    "    print(\"Num. \",a)\n",
    "    a -= 1"
   ]
  }
 ],
 "metadata": {
  "kernelspec": {
   "display_name": "Python 3",
   "language": "python",
   "name": "python3"
  },
  "language_info": {
   "codemirror_mode": {
    "name": "ipython",
    "version": 3
   },
   "file_extension": ".py",
   "mimetype": "text/x-python",
   "name": "python",
   "nbconvert_exporter": "python",
   "pygments_lexer": "ipython3",
   "version": "3.13.7"
  },
  "orig_nbformat": 4
 },
 "nbformat": 4,
 "nbformat_minor": 2
}
